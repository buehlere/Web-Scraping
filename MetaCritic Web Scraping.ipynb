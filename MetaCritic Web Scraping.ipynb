{
 "cells": [
  {
   "cell_type": "markdown",
   "metadata": {},
   "source": [
    "# Web Scraping Video Game Scores From MetaCritic"
   ]
  },
  {
   "cell_type": "code",
   "execution_count": 15,
   "metadata": {
    "collapsed": true
   },
   "outputs": [],
   "source": [
    "import requests #using requests models \n",
    "import bs4 #beautiful soup for traversing html \n",
    "import re #regular expressions \n",
    "import pandas as pd #pandas to hold data"
   ]
  },
  {
   "cell_type": "code",
   "execution_count": 16,
   "metadata": {
    "collapsed": true
   },
   "outputs": [],
   "source": [
    "def requestPage(url,userAgent): \n",
    "    '''\n",
    "    The purpose of this function is for the client to request a session with metacritic \n",
    "    -input: \n",
    "        url: a url for the page you are trying to request. \n",
    "        userAgent: the user who is trying to access the page \n",
    "    -output: a media company's metacritic page in lxml format \n",
    "    '''\n",
    "    s = requests.Session()\n",
    "    headers = {'User-Agent': userAgent}\n",
    "    r = s.get(url,headers=headers)\n",
    "    soup = bs4.BeautifulSoup(r.content, 'lxml') \n",
    "    return soup"
   ]
  },
  {
   "cell_type": "code",
   "execution_count": 17,
   "metadata": {
    "collapsed": true
   },
   "outputs": [],
   "source": [
    "def fetch(page): \n",
    "    '''\n",
    "    This is function uses regular expression and beautiful soup to extract the specific data we want from \n",
    "    the lxml formated metacritic page. \n",
    "    -input: a media companies metacritic page in lxml format \n",
    "    -output: the year, user score, and meta score of a media company's media \n",
    "    '''\n",
    "    tree = page.find_all('tr',class_='alt')\n",
    "    # year: \n",
    "    year = [tree[item].find('td',class_='year').text for item in range(len(tree))]\n",
    "    # user scores: \n",
    "    regexUserScore = re.compile('data textscore textscore_.')\n",
    "    userscores = [tree[item].find('span',class_= regexUserScore).text for item in range(len(tree))]\n",
    "    # meta scores: \n",
    "    regexMetaScore = re.compile('metascore_w small game.')\n",
    "    metascores= [tree[item].find('span',class_= regexMetaScore).text for item in range(len(tree))]\n",
    "    \n",
    "    return year, userscores, metascores\n"
   ]
  },
  {
   "cell_type": "code",
   "execution_count": 18,
   "metadata": {
    "collapsed": true
   },
   "outputs": [],
   "source": [
    "def main(url): \n",
    "    '''\n",
    "    This is function pulls together the requestPage() and fetch() function to build a pandas data frame \n",
    "    from a media company's metacritic page\n",
    "    -input: a url \n",
    "    -output: a pandas data frame of the year, user score, \n",
    "    and meta score of a media company's media.  \n",
    "    '''\n",
    "    flatten = lambda l: [item for sublist in l for item in sublist]\n",
    "    yearColumn = []\n",
    "    userColumn = []\n",
    "    metaColumn = [] \n",
    "    for index in range(0,6): \n",
    "        page = requestPage(url + '?page=' + str(index),'Mozilla/5.0')\n",
    "        year,user,meta = fetch(page)\n",
    "        yearColumn.append(year)\n",
    "        userColumn.append(user)\n",
    "        metaColumn.append(meta)\n",
    "    yearColumn = flatten(yearColumn)\n",
    "    userColumn = flatten(userColumn)\n",
    "    metaColumn = flatten(metaColumn)\n",
    "    table = pd.DataFrame(\n",
    "    {'date': yearColumn,\n",
    "     'user': userColumn,\n",
    "     'meta': metaColumn\n",
    "    })\n",
    "    return table"
   ]
  },
  {
   "cell_type": "code",
   "execution_count": 19,
   "metadata": {
    "collapsed": true
   },
   "outputs": [],
   "source": [
    "##We call our main function with a metacritic url \n",
    "table = main('http://www.metacritic.com/company/bioware')\n",
    "##Cleaning up the dates \n",
    "table['date'] = table['date'].str.replace('\\n\\s+', '')\n",
    "table['year'] = table['date'].str.replace('.+,', '')"
   ]
  },
  {
   "cell_type": "code",
   "execution_count": 27,
   "metadata": {},
   "outputs": [
    {
     "data": {
      "text/html": [
       "<div>\n",
       "<style>\n",
       "    .dataframe thead tr:only-child th {\n",
       "        text-align: right;\n",
       "    }\n",
       "\n",
       "    .dataframe thead th {\n",
       "        text-align: left;\n",
       "    }\n",
       "\n",
       "    .dataframe tbody tr th {\n",
       "        vertical-align: top;\n",
       "    }\n",
       "</style>\n",
       "<table border=\"1\" class=\"dataframe\">\n",
       "  <thead>\n",
       "    <tr style=\"text-align: right;\">\n",
       "      <th></th>\n",
       "      <th>date</th>\n",
       "      <th>meta</th>\n",
       "      <th>user</th>\n",
       "      <th>year</th>\n",
       "    </tr>\n",
       "  </thead>\n",
       "  <tbody>\n",
       "    <tr>\n",
       "      <th>0</th>\n",
       "      <td>Feb 22, 2019</td>\n",
       "      <td>tbd</td>\n",
       "      <td>tbd</td>\n",
       "      <td>2019</td>\n",
       "    </tr>\n",
       "    <tr>\n",
       "      <th>1</th>\n",
       "      <td>Mar 21, 2017</td>\n",
       "      <td>72</td>\n",
       "      <td>4.9</td>\n",
       "      <td>2017</td>\n",
       "    </tr>\n",
       "    <tr>\n",
       "      <th>2</th>\n",
       "      <td>Mar 21, 2017</td>\n",
       "      <td>71</td>\n",
       "      <td>4.9</td>\n",
       "      <td>2017</td>\n",
       "    </tr>\n",
       "    <tr>\n",
       "      <th>3</th>\n",
       "      <td>Oct 6, 2015</td>\n",
       "      <td>tbd</td>\n",
       "      <td>6.8</td>\n",
       "      <td>2015</td>\n",
       "    </tr>\n",
       "    <tr>\n",
       "      <th>4</th>\n",
       "      <td>Sep 9, 2015</td>\n",
       "      <td>77</td>\n",
       "      <td>7.6</td>\n",
       "      <td>2015</td>\n",
       "    </tr>\n",
       "  </tbody>\n",
       "</table>\n",
       "</div>"
      ],
      "text/plain": [
       "           date meta user   year\n",
       "0  Feb 22, 2019  tbd  tbd   2019\n",
       "1  Mar 21, 2017   72  4.9   2017\n",
       "2  Mar 21, 2017   71  4.9   2017\n",
       "3   Oct 6, 2015  tbd  6.8   2015\n",
       "4   Sep 9, 2015   77  7.6   2015"
      ]
     },
     "execution_count": 27,
     "metadata": {},
     "output_type": "execute_result"
    }
   ],
   "source": [
    "##We can use the .head() to inspect our data frame \n",
    "table.head() "
   ]
  },
  {
   "cell_type": "code",
   "execution_count": 28,
   "metadata": {},
   "outputs": [
    {
     "data": {
      "text/html": [
       "<div>\n",
       "<style>\n",
       "    .dataframe thead tr:only-child th {\n",
       "        text-align: right;\n",
       "    }\n",
       "\n",
       "    .dataframe thead th {\n",
       "        text-align: left;\n",
       "    }\n",
       "\n",
       "    .dataframe tbody tr th {\n",
       "        vertical-align: top;\n",
       "    }\n",
       "</style>\n",
       "<table border=\"1\" class=\"dataframe\">\n",
       "  <thead>\n",
       "    <tr style=\"text-align: right;\">\n",
       "      <th></th>\n",
       "      <th>year</th>\n",
       "      <th>user</th>\n",
       "    </tr>\n",
       "  </thead>\n",
       "  <tbody>\n",
       "    <tr>\n",
       "      <th>0</th>\n",
       "      <td>1998</td>\n",
       "      <td>8.900000</td>\n",
       "    </tr>\n",
       "    <tr>\n",
       "      <th>1</th>\n",
       "      <td>2000</td>\n",
       "      <td>7.900000</td>\n",
       "    </tr>\n",
       "    <tr>\n",
       "      <th>2</th>\n",
       "      <td>2001</td>\n",
       "      <td>8.500000</td>\n",
       "    </tr>\n",
       "    <tr>\n",
       "      <th>3</th>\n",
       "      <td>2002</td>\n",
       "      <td>8.100000</td>\n",
       "    </tr>\n",
       "    <tr>\n",
       "      <th>4</th>\n",
       "      <td>2003</td>\n",
       "      <td>9.000000</td>\n",
       "    </tr>\n",
       "    <tr>\n",
       "      <th>5</th>\n",
       "      <td>2004</td>\n",
       "      <td>8.800000</td>\n",
       "    </tr>\n",
       "    <tr>\n",
       "      <th>6</th>\n",
       "      <td>2005</td>\n",
       "      <td>7.900000</td>\n",
       "    </tr>\n",
       "    <tr>\n",
       "      <th>7</th>\n",
       "      <td>2007</td>\n",
       "      <td>8.200000</td>\n",
       "    </tr>\n",
       "    <tr>\n",
       "      <th>8</th>\n",
       "      <td>2008</td>\n",
       "      <td>8.600000</td>\n",
       "    </tr>\n",
       "    <tr>\n",
       "      <th>9</th>\n",
       "      <td>2009</td>\n",
       "      <td>7.080000</td>\n",
       "    </tr>\n",
       "    <tr>\n",
       "      <th>10</th>\n",
       "      <td>2010</td>\n",
       "      <td>6.811765</td>\n",
       "    </tr>\n",
       "    <tr>\n",
       "      <th>11</th>\n",
       "      <td>2011</td>\n",
       "      <td>5.272727</td>\n",
       "    </tr>\n",
       "    <tr>\n",
       "      <th>12</th>\n",
       "      <td>2012</td>\n",
       "      <td>6.655556</td>\n",
       "    </tr>\n",
       "    <tr>\n",
       "      <th>13</th>\n",
       "      <td>2013</td>\n",
       "      <td>6.625000</td>\n",
       "    </tr>\n",
       "    <tr>\n",
       "      <th>14</th>\n",
       "      <td>2014</td>\n",
       "      <td>6.100000</td>\n",
       "    </tr>\n",
       "    <tr>\n",
       "      <th>15</th>\n",
       "      <td>2015</td>\n",
       "      <td>6.633333</td>\n",
       "    </tr>\n",
       "    <tr>\n",
       "      <th>16</th>\n",
       "      <td>2017</td>\n",
       "      <td>4.900000</td>\n",
       "    </tr>\n",
       "  </tbody>\n",
       "</table>\n",
       "</div>"
      ],
      "text/plain": [
       "     year      user\n",
       "0    1998  8.900000\n",
       "1    2000  7.900000\n",
       "2    2001  8.500000\n",
       "3    2002  8.100000\n",
       "4    2003  9.000000\n",
       "5    2004  8.800000\n",
       "6    2005  7.900000\n",
       "7    2007  8.200000\n",
       "8    2008  8.600000\n",
       "9    2009  7.080000\n",
       "10   2010  6.811765\n",
       "11   2011  5.272727\n",
       "12   2012  6.655556\n",
       "13   2013  6.625000\n",
       "14   2014  6.100000\n",
       "15   2015  6.633333\n",
       "16   2017  4.900000"
      ]
     },
     "execution_count": 28,
     "metadata": {},
     "output_type": "execute_result"
    }
   ],
   "source": [
    "##We can take a look at the mean user rating over time \n",
    "time = userGraph.groupby('year').agg({'user': 'mean'})\n",
    "time = time.reset_index(drop=False)\n",
    "time"
   ]
  },
  {
   "cell_type": "code",
   "execution_count": 23,
   "metadata": {},
   "outputs": [
    {
     "data": {
      "image/png": "[encoded data removed]",
      "text/plain": [
       "<matplotlib.figure.Figure at 0x1143e9b70>"
      ]
     },
     "metadata": {},
     "output_type": "display_data"
    }
   ],
   "source": [
    "##and plot it with matplotlib\n",
    "import matplotlib.pyplot as plt\n",
    "a = time.plot(x='year', y='user')\n",
    "a.set_xlabel('year')\n",
    "a.set_xlabel('User Rating')\n",
    "a.set_title('User Rating of Bioware Games Over Time')\n",
    "plt.show()\n"
   ]
  },
  {
   "cell_type": "markdown",
   "metadata": {},
   "source": [
    "We can see that it looks like user approval has declined over time. "
   ]
  },
  {
   "cell_type": "code",
   "execution_count": 30,
   "metadata": {},
   "outputs": [
    {
     "data": {
      "text/html": [
       "<div>\n",
       "<style>\n",
       "    .dataframe thead tr:only-child th {\n",
       "        text-align: right;\n",
       "    }\n",
       "\n",
       "    .dataframe thead th {\n",
       "        text-align: left;\n",
       "    }\n",
       "\n",
       "    .dataframe tbody tr th {\n",
       "        vertical-align: top;\n",
       "    }\n",
       "</style>\n",
       "<table border=\"1\" class=\"dataframe\">\n",
       "  <thead>\n",
       "    <tr style=\"text-align: right;\">\n",
       "      <th></th>\n",
       "      <th>year</th>\n",
       "      <th>meta</th>\n",
       "    </tr>\n",
       "  </thead>\n",
       "  <tbody>\n",
       "    <tr>\n",
       "      <th>0</th>\n",
       "      <td>1998</td>\n",
       "      <td>91.000000</td>\n",
       "    </tr>\n",
       "    <tr>\n",
       "      <th>1</th>\n",
       "      <td>2000</td>\n",
       "      <td>83.000000</td>\n",
       "    </tr>\n",
       "    <tr>\n",
       "      <th>2</th>\n",
       "      <td>2001</td>\n",
       "      <td>80.000000</td>\n",
       "    </tr>\n",
       "    <tr>\n",
       "      <th>3</th>\n",
       "      <td>2002</td>\n",
       "      <td>91.000000</td>\n",
       "    </tr>\n",
       "    <tr>\n",
       "      <th>4</th>\n",
       "      <td>2003</td>\n",
       "      <td>93.500000</td>\n",
       "    </tr>\n",
       "    <tr>\n",
       "      <th>5</th>\n",
       "      <td>2007</td>\n",
       "      <td>81.000000</td>\n",
       "    </tr>\n",
       "    <tr>\n",
       "      <th>6</th>\n",
       "      <td>2008</td>\n",
       "      <td>89.000000</td>\n",
       "    </tr>\n",
       "    <tr>\n",
       "      <th>7</th>\n",
       "      <td>2009</td>\n",
       "      <td>88.500000</td>\n",
       "    </tr>\n",
       "    <tr>\n",
       "      <th>8</th>\n",
       "      <td>2010</td>\n",
       "      <td>72.090909</td>\n",
       "    </tr>\n",
       "    <tr>\n",
       "      <th>9</th>\n",
       "      <td>2011</td>\n",
       "      <td>76.714286</td>\n",
       "    </tr>\n",
       "    <tr>\n",
       "      <th>10</th>\n",
       "      <td>2012</td>\n",
       "      <td>75.200000</td>\n",
       "    </tr>\n",
       "    <tr>\n",
       "      <th>11</th>\n",
       "      <td>2013</td>\n",
       "      <td>75.666667</td>\n",
       "    </tr>\n",
       "    <tr>\n",
       "      <th>12</th>\n",
       "      <td>2014</td>\n",
       "      <td>87.000000</td>\n",
       "    </tr>\n",
       "    <tr>\n",
       "      <th>13</th>\n",
       "      <td>2015</td>\n",
       "      <td>70.000000</td>\n",
       "    </tr>\n",
       "    <tr>\n",
       "      <th>14</th>\n",
       "      <td>2017</td>\n",
       "      <td>71.500000</td>\n",
       "    </tr>\n",
       "  </tbody>\n",
       "</table>\n",
       "</div>"
      ],
      "text/plain": [
       "     year       meta\n",
       "0    1998  91.000000\n",
       "1    2000  83.000000\n",
       "2    2001  80.000000\n",
       "3    2002  91.000000\n",
       "4    2003  93.500000\n",
       "5    2007  81.000000\n",
       "6    2008  89.000000\n",
       "7    2009  88.500000\n",
       "8    2010  72.090909\n",
       "9    2011  76.714286\n",
       "10   2012  75.200000\n",
       "11   2013  75.666667\n",
       "12   2014  87.000000\n",
       "13   2015  70.000000\n",
       "14   2017  71.500000"
      ]
     },
     "execution_count": 30,
     "metadata": {},
     "output_type": "execute_result"
    }
   ],
   "source": [
    "##We can take a look at the mean meta scores over time \n",
    "time2 = metaGraph.groupby('year').agg({'meta': 'mean'})\n",
    "time2 = time2.reset_index(drop=False)\n",
    "time2"
   ]
  },
  {
   "cell_type": "code",
   "execution_count": 31,
   "metadata": {},
   "outputs": [
    {
     "data": {
      "image/png": "[encoded data removed]",
      "text/plain": [
       "<matplotlib.figure.Figure at 0x1097c4ba8>"
      ]
     },
     "metadata": {},
     "output_type": "display_data"
    }
   ],
   "source": [
    "import matplotlib.pyplot as plt\n",
    "a = time2.plot(x='year', y='meta')\n",
    "a.set_xlabel('year')\n",
    "a.set_xlabel('Meta Score')\n",
    "a.set_title('Meta Score of Bioware Games Over Time')\n",
    "plt.show()"
   ]
  },
  {
   "cell_type": "markdown",
   "metadata": {},
   "source": [
    "The trend appears a little less certain for the meta score. "
   ]
  }
 ],
 "metadata": {
  "kernelspec": {
   "display_name": "Python 3",
   "language": "python",
   "name": "python3"
  },
  "language_info": {
   "codemirror_mode": {
    "name": "ipython",
    "version": 3
   },
   "file_extension": ".py",
   "mimetype": "text/x-python",
   "name": "python",
   "nbconvert_exporter": "python",
   "pygments_lexer": "ipython3",
   "version": "3.6.1"
  }
 },
 "nbformat": 4,
 "nbformat_minor": 2
}
